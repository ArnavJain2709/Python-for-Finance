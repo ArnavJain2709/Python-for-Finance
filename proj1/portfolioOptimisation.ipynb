{
 "cells": [
  {
   "cell_type": "code",
   "execution_count": 41,
   "id": "315a26e4",
   "metadata": {},
   "outputs": [],
   "source": [
    "import yfinance as yf\n",
    "import pandas as pd\n",
    "from datetime import datetime, timedelta\n",
    "import numpy as np\n",
    "from scipy.optimize import minimize"
   ]
  },
  {
   "cell_type": "markdown",
   "id": "7724c4fc",
   "metadata": {},
   "source": [
    "# Define Tickers and Time Period"
   ]
  },
  {
   "cell_type": "code",
   "execution_count": 42,
   "id": "46533eec",
   "metadata": {},
   "outputs": [],
   "source": [
    "# define the list of tickers\n",
    "tickers = ['SPY', 'BND', 'GLD', 'QQQ', 'VTI']"
   ]
  },
  {
   "cell_type": "code",
   "execution_count": 43,
   "id": "eeed9559",
   "metadata": {},
   "outputs": [],
   "source": [
    "# set the end date to today\n",
    "end_date = datetime.now()\n",
    "# set the start date to 5 years ago\n",
    "start_date = end_date - timedelta(days=365*5)\n",
    "#end_date, start_date"
   ]
  },
  {
   "cell_type": "markdown",
   "id": "8a3ae4fd",
   "metadata": {},
   "source": [
    "# Download (Adjusted) Close Prices"
   ]
  },
  {
   "cell_type": "code",
   "execution_count": 44,
   "id": "9c9b55e6",
   "metadata": {},
   "outputs": [
    {
     "name": "stderr",
     "output_type": "stream",
     "text": [
      "[*********************100%***********************]  1 of 1 completed\n",
      "[*********************100%***********************]  1 of 1 completed\n",
      "[*********************100%***********************]  1 of 1 completed\n",
      "\n",
      "[*********************100%***********************]  1 of 1 completed\n",
      "\n",
      "[*********************100%***********************]  1 of 1 completed\n",
      "\n",
      "[*********************100%***********************]  1 of 1 completed\n",
      "[*********************100%***********************]  1 of 1 completed\n"
     ]
    }
   ],
   "source": [
    "adj_close_df = pd.DataFrame() \n",
    "for ticker in tickers:\n",
    "    # Download the data\n",
    "    data = yf.download(ticker, start=start_date, end=end_date, auto_adjust=False)\n",
    "    # Use the adjusted close prices\n",
    "    adj_close_df[ticker] = data['Adj Close']"
   ]
  },
  {
   "cell_type": "code",
   "execution_count": 45,
   "id": "b531bb85",
   "metadata": {},
   "outputs": [
    {
     "name": "stdout",
     "output_type": "stream",
     "text": [
      "                   SPY        BND         GLD         QQQ         VTI\n",
      "Date                                                                 \n",
      "2020-08-03  306.142303  77.136803  185.639999  261.580048  155.199707\n",
      "2020-08-04  307.324829  77.300964  189.589996  262.551056  155.813202\n",
      "2020-08-05  309.233704  77.197304  191.350006  263.201691  156.947281\n",
      "2020-08-06  311.300751  77.318260  193.889999  266.687744  157.709518\n",
      "2020-08-07  311.524200  77.231842  190.809998  263.609497  157.839661\n",
      "...                ...        ...         ...         ...         ...\n",
      "2025-07-28  636.940002  72.758659  305.410004  568.140015  313.600006\n",
      "2025-07-29  635.260010  73.137398  306.250000  567.260010  312.609985\n",
      "2025-07-30  634.460022  72.948036  300.959991  568.020020  312.250000\n",
      "2025-07-31  632.080017  72.957993  302.959991  565.010010  310.890015\n",
      "2025-08-01  621.719971  73.589996  309.109985  553.880005  305.739990\n",
      "\n",
      "[1256 rows x 5 columns]\n"
     ]
    }
   ],
   "source": [
    "print(adj_close_df)"
   ]
  },
  {
   "cell_type": "markdown",
   "id": "d4b173dd",
   "metadata": {},
   "source": [
    "# Calculate Lognormal Returns"
   ]
  },
  {
   "cell_type": "code",
   "execution_count": 46,
   "id": "44cca036",
   "metadata": {},
   "outputs": [],
   "source": [
    "log_returns = np.log(adj_close_df / adj_close_df.shift(1)).dropna()"
   ]
  },
  {
   "cell_type": "markdown",
   "id": "8724fef4",
   "metadata": {},
   "source": [
    "# Calculate Covariance Matrix"
   ]
  },
  {
   "cell_type": "code",
   "execution_count": 47,
   "id": "1d1e0dfa",
   "metadata": {},
   "outputs": [],
   "source": [
    "cov_matrix = log_returns.cov() * 252  # Annualize the covariance matrix"
   ]
  },
  {
   "cell_type": "code",
   "execution_count": 48,
   "id": "b5c9770b",
   "metadata": {},
   "outputs": [
    {
     "name": "stdout",
     "output_type": "stream",
     "text": [
      "          SPY       BND       GLD       QQQ       VTI\n",
      "SPY  0.030587  0.001909  0.003637  0.038281  0.031063\n",
      "BND  0.001909  0.003594  0.003157  0.002739  0.002000\n",
      "GLD  0.003637  0.003157  0.023884  0.004884  0.003792\n",
      "QQQ  0.038281  0.002739  0.004884  0.054354  0.038951\n",
      "VTI  0.031063  0.002000  0.003792  0.038951  0.031877\n"
     ]
    }
   ],
   "source": [
    "print(cov_matrix)"
   ]
  },
  {
   "cell_type": "markdown",
   "id": "b6a31685",
   "metadata": {},
   "source": [
    "# Define Portfolio Performance Metrics"
   ]
  },
  {
   "cell_type": "code",
   "execution_count": 49,
   "id": "e3d5c276",
   "metadata": {},
   "outputs": [],
   "source": [
    "# calculate the portfolio standard deviation\n",
    "def standard_deviation (wieghts, cov_matrix):\n",
    "    variance = wieghts.T @ cov_matrix @ wieghts\n",
    "    return np.sqrt(variance)"
   ]
  },
  {
   "cell_type": "code",
   "execution_count": 50,
   "id": "9dd05c10",
   "metadata": {},
   "outputs": [],
   "source": [
    "# calculate the expected return\n",
    "# *key assumption: the expected return are based on historical returns\n",
    "def expected_return(weights, log_returns):\n",
    "    return np.sum(log_returns.mean() * weights) * 252  # Annualize the returns"
   ]
  },
  {
   "cell_type": "markdown",
   "id": "a96e7748",
   "metadata": {},
   "source": [
    "# Calculate the Sharpe Ratio\n",
    "Sharpe Ratio = (Portfolio Return - Risk-Free Rate) / Standard Deviation\n",
    "\n",
    "The Risk Free Rate (rf) is the theoretical rate of return received on zero-risk assets, which serves as the minimum return required on riskier investments\n"
   ]
  },
  {
   "cell_type": "code",
   "execution_count": 51,
   "id": "ce5c5997",
   "metadata": {},
   "outputs": [],
   "source": [
    "def sharpe_ratio(weights, log_returns, cov_matrix, risk_free_rate):\n",
    "    return (expected_return (weights, log_returns) - risk_free_rate) / standard_deviation(weights, cov_matrix)"
   ]
  },
  {
   "cell_type": "markdown",
   "id": "7d633f14",
   "metadata": {},
   "source": [
    "# Portfolio Optimisation\n",
    "\n",
    "We'll use the FRED API to get the risk-free rate (10-year Treasury rate). The API key is stored securely in an environment file."
   ]
  },
  {
   "cell_type": "code",
   "execution_count": 52,
   "id": "a30cb8f4",
   "metadata": {},
   "outputs": [
    {
     "name": "stdout",
     "output_type": "stream",
     "text": [
      "Requirement already satisfied: fredapi in c:\\users\\arnav\\anaconda3\\lib\\site-packages (0.5.2)\n",
      "Requirement already satisfied: python-dotenv in c:\\users\\arnav\\anaconda3\\lib\\site-packages (0.21.0)\n",
      "Requirement already satisfied: pandas in c:\\users\\arnav\\anaconda3\\lib\\site-packages (from fredapi) (1.5.3)\n",
      "Requirement already satisfied: python-dateutil>=2.8.1 in c:\\users\\arnav\\anaconda3\\lib\\site-packages (from pandas->fredapi) (2.8.2)\n",
      "Requirement already satisfied: pytz>=2020.1 in c:\\users\\arnav\\anaconda3\\lib\\site-packages (from pandas->fredapi) (2022.7)\n",
      "Requirement already satisfied: numpy>=1.21.0 in c:\\users\\arnav\\anaconda3\\lib\\site-packages (from pandas->fredapi) (1.26.4)\n",
      "Requirement already satisfied: six>=1.5 in c:\\users\\arnav\\anaconda3\\lib\\site-packages (from python-dateutil>=2.8.1->pandas->fredapi) (1.16.0)\n",
      "Note: you may need to restart the kernel to use updated packages.\n"
     ]
    }
   ],
   "source": [
    "%pip install fredapi python-dotenv\n",
    "from fredapi import Fred\n",
    "import os\n",
    "from dotenv import load_dotenv"
   ]
  },
  {
   "cell_type": "code",
   "execution_count": 53,
   "id": "90e7d79a",
   "metadata": {},
   "outputs": [
    {
     "name": "stdout",
     "output_type": "stream",
     "text": [
      "Risk-free rate: 0.0439\n"
     ]
    }
   ],
   "source": [
    "# Load environment variables from .env file\n",
    "load_dotenv()\n",
    "\n",
    "# Get the FRED API key from environment variables\n",
    "api_key = os.getenv('FRED_API_KEY')\n",
    "if not api_key:\n",
    "    raise ValueError(\"FRED_API_KEY not found in environment variables. Please check your .env file.\")\n",
    "\n",
    "# Initialize FRED API client\n",
    "fred = Fred(api_key=api_key)\n",
    "ten_year_treasury_rate = fred.get_series_latest_release('GS10') / 100  # Convert to decimal\n",
    "\n",
    "# set the risk-free rate\n",
    "risk_free_rate = ten_year_treasury_rate.iloc[-1]  # Get the most recent value\n",
    "print(f\"Risk-free rate: {risk_free_rate:.4f}\")"
   ]
  },
  {
   "cell_type": "markdown",
   "id": "427f2fba",
   "metadata": {},
   "source": [
    "# Define the function to minimize the negative Sharpe Ratio"
   ]
  },
  {
   "cell_type": "code",
   "execution_count": 54,
   "id": "4cfb476f",
   "metadata": {},
   "outputs": [],
   "source": [
    "def neg_sharpe_ratio(weights, log_returns, cov_matrix, risk_free_rate):\n",
    "    return -sharpe_ratio(weights, log_returns, cov_matrix, risk_free_rate)"
   ]
  },
  {
   "cell_type": "code",
   "execution_count": 55,
   "id": "f2211b97",
   "metadata": {},
   "outputs": [],
   "source": [
    "# set the constraints and bounds\n",
    "constraints = ({'type': 'eq', 'fun': lambda x: np.sum(x) - 1})  # Weights must sum to 1\n",
    "bounds = [(0, 1) for _ in range(len(tickers))]  # Weights must be between 0 and 1"
   ]
  },
  {
   "cell_type": "code",
   "execution_count": 56,
   "id": "537d0735",
   "metadata": {},
   "outputs": [],
   "source": [
    "# set the initial weights\n",
    "initial_weights = np.array([1/len(tickers)] * len(tickers))  # Equal weights"
   ]
  },
  {
   "cell_type": "markdown",
   "id": "dfbb34cf",
   "metadata": {},
   "source": [
    "# Optimise the weights to maximize the Sharpe Ratio"
   ]
  },
  {
   "cell_type": "code",
   "execution_count": 57,
   "id": "417773d6",
   "metadata": {},
   "outputs": [],
   "source": [
    "optimal_weights = minimize(neg_sharpe_ratio, initial_weights, args=(log_returns, cov_matrix, risk_free_rate),\n",
    "                             method='SLSQP', bounds=bounds, constraints=constraints)"
   ]
  },
  {
   "cell_type": "markdown",
   "id": "73072503",
   "metadata": {},
   "source": [
    "# Analyse the Otimal Portfolio"
   ]
  },
  {
   "cell_type": "code",
   "execution_count": 58,
   "id": "2af843da",
   "metadata": {},
   "outputs": [],
   "source": [
    "# get the optimised weights\n",
    "optimal_weights = optimal_weights.x "
   ]
  },
  {
   "cell_type": "code",
   "execution_count": 59,
   "id": "983f55e2",
   "metadata": {},
   "outputs": [
    {
     "name": "stdout",
     "output_type": "stream",
     "text": [
      "Optimal Weights:\n",
      "SPY: 0.5989\n",
      "BND: 0.0000\n",
      "GLD: 0.4011\n",
      "QQQ: 0.0000\n",
      "VTI: 0.0000\n",
      "Expected Annual Return: 0.1263\n",
      "Expected Volatility: 0.1287\n",
      "Sharpe Ratio: 0.6400\n"
     ]
    }
   ],
   "source": [
    "print(\"Optimal Weights:\")\n",
    "for ticker, weight in zip(tickers, optimal_weights):\n",
    "    print(f\"{ticker}: {weight:.4f}\")\n",
    "\n",
    "optimal_portfolio_return = expected_return(optimal_weights, log_returns)\n",
    "optimal_portfolio_volatility = standard_deviation(optimal_weights, cov_matrix)\n",
    "optimal_sharpe_ratio = sharpe_ratio(optimal_weights, log_returns, cov_matrix, risk_free_rate)\n",
    "\n",
    "print(f\"Expected Annual Return: {optimal_portfolio_return:.4f}\")\n",
    "print(f\"Expected Volatility: {optimal_portfolio_volatility:.4f}\")\n",
    "print(f\"Sharpe Ratio: {optimal_sharpe_ratio:.4f}\")"
   ]
  },
  {
   "cell_type": "code",
   "execution_count": 60,
   "id": "92123c0d",
   "metadata": {},
   "outputs": [
    {
     "data": {
      "image/png": "[encoded data removed]",
      "text/plain": [
       "<Figure size 1000x600 with 1 Axes>"
      ]
     },
     "metadata": {},
     "output_type": "display_data"
    }
   ],
   "source": [
    "# display the final portfolio in a plot\n",
    "import matplotlib.pyplot as plt\n",
    "\n",
    "plt.figure(figsize=(10, 6))\n",
    "plt.bar(tickers, optimal_weights, color='skyblue')\n",
    "plt.title('Optimal Portfolio Weights')\n",
    "plt.xlabel('Assets')\n",
    "plt.ylabel('Optimal Weight')\n",
    "\n",
    "plt.show()"
   ]
  },
  {
   "cell_type": "code",
   "execution_count": null,
   "id": "52a4429a",
   "metadata": {},
   "outputs": [],
   "source": []
  }
 ],
 "metadata": {
  "kernelspec": {
   "display_name": "base",
   "language": "python",
   "name": "python3"
  },
  "language_info": {
   "codemirror_mode": {
    "name": "ipython",
    "version": 3
   },
   "file_extension": ".py",
   "mimetype": "text/x-python",
   "name": "python",
   "nbconvert_exporter": "python",
   "pygments_lexer": "ipython3",
   "version": "3.11.5"
  }
 },
 "nbformat": 4,
 "nbformat_minor": 5
}
