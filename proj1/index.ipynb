{
 "cells": [
  {
   "cell_type": "code",
   "execution_count": 1,
   "id": "e4f9e021",
   "metadata": {},
   "outputs": [],
   "source": [
    "import yfinance as yf\n",
    "import pandas as pd\n",
    "from pandas_datareader import data as pdr\n",
    "import datetime as dt\n",
    "import numpy as np\n"
   ]
  },
  {
   "cell_type": "markdown",
   "id": "1827fdae",
   "metadata": {},
   "source": [
    "# Declaring the Date Range for out Stock Returns\n",
    "\n",
    "Here, we use Python’s datetime module to define a date range for our stock analysis. We declare the current date as the endDate, and the startDate as five years before the current date."
   ]
  },
  {
   "cell_type": "code",
   "execution_count": 4,
   "id": "fcdc1311",
   "metadata": {},
   "outputs": [
    {
     "data": {
      "text/plain": [
       "(datetime.datetime(2025, 8, 2, 12, 22, 52, 933151),\n",
       " datetime.datetime(2020, 8, 3, 12, 22, 52, 933151))"
      ]
     },
     "execution_count": 4,
     "metadata": {},
     "output_type": "execute_result"
    }
   ],
   "source": [
    "# current date\n",
    "endDate = dt.datetime.now()\n",
    "\n",
    "# first date in the range (i.e. period of time for which we want to get stock data)\n",
    "startDate = endDate - dt.timedelta(days=365 * 5)  # 5 years before the current date\n",
    "\n",
    "endDate, startDate"
   ]
  },
  {
   "cell_type": "code",
   "execution_count": null,
   "id": "7dfcfbcf",
   "metadata": {},
   "outputs": [],
   "source": []
  }
 ],
 "metadata": {
  "kernelspec": {
   "display_name": "base",
   "language": "python",
   "name": "python3"
  },
  "language_info": {
   "codemirror_mode": {
    "name": "ipython",
    "version": 3
   },
   "file_extension": ".py",
   "mimetype": "text/x-python",
   "name": "python",
   "nbconvert_exporter": "python",
   "pygments_lexer": "ipython3",
   "version": "3.11.5"
  }
 },
 "nbformat": 4,
 "nbformat_minor": 5
}
