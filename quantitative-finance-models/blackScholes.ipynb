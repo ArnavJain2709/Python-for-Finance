{
 "cells": [
  {
   "cell_type": "markdown",
   "id": "3357391f",
   "metadata": {},
   "source": [
    "# Option Pricing using the Black-Scholes-Merton Model\n",
    "The Black-Scholes-Merton model is a mathematical model for pricing European-style options. It provides a theoretical estimate of the price of options based on five key variable:\n",
    "* underlying asset's price (S)\n",
    "* Strike Price (K)\n",
    "* Time to Expiration (T)\n",
    "* Risk Free Rate (r)\n",
    "* Volatility (σ)"
   ]
  },
  {
   "cell_type": "code",
   "execution_count": 2,
   "id": "01cd8128",
   "metadata": {},
   "outputs": [],
   "source": [
    "import math \n",
    "from scipy.stats import norm"
   ]
  },
  {
   "cell_type": "code",
   "execution_count": 3,
   "id": "1cef0aee",
   "metadata": {},
   "outputs": [],
   "source": [
    "# define the variables\n",
    "S = 42  # current stock price\n",
    "K = 40  # strike price\n",
    "T = 0.5    # time to expiration in years\n",
    "r = 0.1 # risk-free interest rate\n",
    "vol = 0.2 # volatility of the underlying asset"
   ]
  },
  {
   "cell_type": "markdown",
   "id": "aa0dd600",
   "metadata": {},
   "source": [
    "## Calculate d1 and d2\n",
    "The formula for d1 in the Black-Scholes model is:\n",
    "```math\n",
    "d1 = \\frac{\\ln(S/K) + (r + \\sigma^2/2)T}{\\sigma\\sqrt{T}}\n",
    "```\n",
    "\n",
    "```math\n",
    "d2 = d1 - \\sigma\\sqrt{T}\n",
    "```\n",
    "\n",
    "Where:\n",
    "- \\( S \\) is the current stock price\n",
    "- \\( K \\) is the strike price   \n",
    "- \\( T \\) is the time to expiration in years\n",
    "- \\( r \\) is the risk-free interest rate\n",
    "- \\( \\sigma \\) is the volatility of the underlying asset\n",
    "\n",
    "\n"
   ]
  },
  {
   "cell_type": "code",
   "execution_count": 4,
   "id": "eacdc0da",
   "metadata": {},
   "outputs": [],
   "source": [
    "d1 = (math.log(S/K) + (r +  vol**2/2) * T) / (vol * math.sqrt(T))"
   ]
  },
  {
   "cell_type": "code",
   "execution_count": 5,
   "id": "a8688722",
   "metadata": {},
   "outputs": [],
   "source": [
    "d2 = d1 - vol * math.sqrt(T)"
   ]
  },
  {
   "cell_type": "markdown",
   "id": "1a266942",
   "metadata": {},
   "source": [
    "## Calculate Call Option Price\n",
    "The formula for the call option price \\( C \\) in the Black-Scholes model is:\n",
    "```math\n",
    "C = S N(d1) - K e^{-rT} N(d2)\n",
    "```\n",
    "Where:\n",
    "- \\( N(d) \\) is the cumulative distribution function of the standard normal distribution"
   ]
  },
  {
   "cell_type": "code",
   "execution_count": 6,
   "id": "3f6d02e8",
   "metadata": {},
   "outputs": [],
   "source": [
    "c = S * norm.cdf(d1) - K * math.exp(-r * T) * norm.cdf(d2)"
   ]
  },
  {
   "cell_type": "markdown",
   "id": "d69085b8",
   "metadata": {},
   "source": [
    "## Calculate Put Option Price\n",
    "The formula for the put option price \\( P \\) in the Black-Scholes model is:\n",
    "```math\n",
    "P = K e^{-rT} N(-d2) - S N(-d1)\n",
    "```\n"
   ]
  },
  {
   "cell_type": "code",
   "execution_count": 7,
   "id": "8ca56961",
   "metadata": {},
   "outputs": [],
   "source": [
    "P = K * math.exp(-r * T) * norm.cdf(-d2) - S * norm.cdf(-d1)"
   ]
  },
  {
   "cell_type": "code",
   "execution_count": 8,
   "id": "47f9623c",
   "metadata": {},
   "outputs": [
    {
     "name": "stdout",
     "output_type": "stream",
     "text": [
      " The value of d1 is:  0.7693\n",
      " The value of d2 is:  0.6278\n",
      " The price of the call option is:  4.76\n",
      " The price of the put option is:  0.81\n"
     ]
    }
   ],
   "source": [
    "# print the results\n",
    "print(' The value of d1 is: ', round(d1, 4))\n",
    "print(' The value of d2 is: ', round(d2, 4))\n",
    "print(' The price of the call option is: ', round(c, 2))\n",
    "print(' The price of the put option is: ', round(P, 2))"
   ]
  },
  {
   "cell_type": "code",
   "execution_count": null,
   "id": "5a7ffd13",
   "metadata": {},
   "outputs": [],
   "source": []
  }
 ],
 "metadata": {
  "kernelspec": {
   "display_name": "base",
   "language": "python",
   "name": "python3"
  },
  "language_info": {
   "codemirror_mode": {
    "name": "ipython",
    "version": 3
   },
   "file_extension": ".py",
   "mimetype": "text/x-python",
   "name": "python",
   "nbconvert_exporter": "python",
   "pygments_lexer": "ipython3",
   "version": "3.11.5"
  }
 },
 "nbformat": 4,
 "nbformat_minor": 5
}
